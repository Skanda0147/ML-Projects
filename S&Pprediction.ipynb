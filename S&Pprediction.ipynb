{
  "nbformat": 4,
  "nbformat_minor": 0,
  "metadata": {
    "colab": {
      "provenance": []
    },
    "kernelspec": {
      "name": "python3",
      "display_name": "Python 3"
    },
    "language_info": {
      "name": "python"
    }
  },
  "cells": [
    {
      "cell_type": "code",
      "execution_count": null,
      "metadata": {
        "id": "CEuzVEzQbVOE"
      },
      "outputs": [],
      "source": [
        "#Artificial neural network (LSTM) in order to predict the closing stock price of a corporation"
      ]
    },
    {
      "cell_type": "code",
      "source": [
        "#Libraries\n",
        "import yfinance as yf"
      ],
      "metadata": {
        "id": "A-iuMBLobvMK"
      },
      "execution_count": null,
      "outputs": []
    },
    {
      "cell_type": "code",
      "source": [
        "sp500 = yf.Ticker(\"^GSPC\")"
      ],
      "metadata": {
        "id": "AUZkiSTJcoL9"
      },
      "execution_count": null,
      "outputs": []
    },
    {
      "cell_type": "code",
      "source": [
        "sp500 = sp500.history(period=\"max\")"
      ],
      "metadata": {
        "id": "J3AEU7EPbWFO"
      },
      "execution_count": null,
      "outputs": []
    },
    {
      "cell_type": "code",
      "source": [
        "sp500"
      ],
      "metadata": {
        "colab": {
          "base_uri": "https://localhost:8080/",
          "height": 455
        },
        "id": "DnTpBl7nbZXx",
        "outputId": "406f9b36-a8ad-4469-ebad-03aa8d5d1a04"
      },
      "execution_count": null,
      "outputs": [
        {
          "output_type": "execute_result",
          "data": {
            "text/plain": [
              "                                  Open         High          Low        Close  \\\n",
              "Date                                                                            \n",
              "1927-12-30 00:00:00-05:00    17.660000    17.660000    17.660000    17.660000   \n",
              "1928-01-03 00:00:00-05:00    17.760000    17.760000    17.760000    17.760000   \n",
              "1928-01-04 00:00:00-05:00    17.719999    17.719999    17.719999    17.719999   \n",
              "1928-01-05 00:00:00-05:00    17.549999    17.549999    17.549999    17.549999   \n",
              "1928-01-06 00:00:00-05:00    17.660000    17.660000    17.660000    17.660000   \n",
              "...                                ...          ...          ...          ...   \n",
              "2023-06-26 00:00:00-04:00  4344.839844  4362.060059  4328.080078  4328.819824   \n",
              "2023-06-27 00:00:00-04:00  4337.359863  4384.419922  4335.000000  4378.410156   \n",
              "2023-06-28 00:00:00-04:00  4367.479980  4390.350098  4360.220215  4376.859863   \n",
              "2023-06-29 00:00:00-04:00  4374.939941  4398.390137  4371.970215  4396.439941   \n",
              "2023-06-30 00:00:00-04:00  4422.439941  4458.479980  4422.439941  4450.379883   \n",
              "\n",
              "                               Volume  Dividends  Stock Splits  \n",
              "Date                                                            \n",
              "1927-12-30 00:00:00-05:00           0        0.0           0.0  \n",
              "1928-01-03 00:00:00-05:00           0        0.0           0.0  \n",
              "1928-01-04 00:00:00-05:00           0        0.0           0.0  \n",
              "1928-01-05 00:00:00-05:00           0        0.0           0.0  \n",
              "1928-01-06 00:00:00-05:00           0        0.0           0.0  \n",
              "...                               ...        ...           ...  \n",
              "2023-06-26 00:00:00-04:00  3415030000        0.0           0.0  \n",
              "2023-06-27 00:00:00-04:00  3573500000        0.0           0.0  \n",
              "2023-06-28 00:00:00-04:00  3739330000        0.0           0.0  \n",
              "2023-06-29 00:00:00-04:00  3696660000        0.0           0.0  \n",
              "2023-06-30 00:00:00-04:00  3923450000        0.0           0.0  \n",
              "\n",
              "[23989 rows x 7 columns]"
            ],
            "text/html": [
              "\n",
              "  <div id=\"df-6bd9d7d1-5fe7-4d67-87dc-5bbcd3d7da8f\">\n",
              "    <div class=\"colab-df-container\">\n",
              "      <div>\n",
              "<style scoped>\n",
              "    .dataframe tbody tr th:only-of-type {\n",
              "        vertical-align: middle;\n",
              "    }\n",
              "\n",
              "    .dataframe tbody tr th {\n",
              "        vertical-align: top;\n",
              "    }\n",
              "\n",
              "    .dataframe thead th {\n",
              "        text-align: right;\n",
              "    }\n",
              "</style>\n",
              "<table border=\"1\" class=\"dataframe\">\n",
              "  <thead>\n",
              "    <tr style=\"text-align: right;\">\n",
              "      <th></th>\n",
              "      <th>Open</th>\n",
              "      <th>High</th>\n",
              "      <th>Low</th>\n",
              "      <th>Close</th>\n",
              "      <th>Volume</th>\n",
              "      <th>Dividends</th>\n",
              "      <th>Stock Splits</th>\n",
              "    </tr>\n",
              "    <tr>\n",
              "      <th>Date</th>\n",
              "      <th></th>\n",
              "      <th></th>\n",
              "      <th></th>\n",
              "      <th></th>\n",
              "      <th></th>\n",
              "      <th></th>\n",
              "      <th></th>\n",
              "    </tr>\n",
              "  </thead>\n",
              "  <tbody>\n",
              "    <tr>\n",
              "      <th>1927-12-30 00:00:00-05:00</th>\n",
              "      <td>17.660000</td>\n",
              "      <td>17.660000</td>\n",
              "      <td>17.660000</td>\n",
              "      <td>17.660000</td>\n",
              "      <td>0</td>\n",
              "      <td>0.0</td>\n",
              "      <td>0.0</td>\n",
              "    </tr>\n",
              "    <tr>\n",
              "      <th>1928-01-03 00:00:00-05:00</th>\n",
              "      <td>17.760000</td>\n",
              "      <td>17.760000</td>\n",
              "      <td>17.760000</td>\n",
              "      <td>17.760000</td>\n",
              "      <td>0</td>\n",
              "      <td>0.0</td>\n",
              "      <td>0.0</td>\n",
              "    </tr>\n",
              "    <tr>\n",
              "      <th>1928-01-04 00:00:00-05:00</th>\n",
              "      <td>17.719999</td>\n",
              "      <td>17.719999</td>\n",
              "      <td>17.719999</td>\n",
              "      <td>17.719999</td>\n",
              "      <td>0</td>\n",
              "      <td>0.0</td>\n",
              "      <td>0.0</td>\n",
              "    </tr>\n",
              "    <tr>\n",
              "      <th>1928-01-05 00:00:00-05:00</th>\n",
              "      <td>17.549999</td>\n",
              "      <td>17.549999</td>\n",
              "      <td>17.549999</td>\n",
              "      <td>17.549999</td>\n",
              "      <td>0</td>\n",
              "      <td>0.0</td>\n",
              "      <td>0.0</td>\n",
              "    </tr>\n",
              "    <tr>\n",
              "      <th>1928-01-06 00:00:00-05:00</th>\n",
              "      <td>17.660000</td>\n",
              "      <td>17.660000</td>\n",
              "      <td>17.660000</td>\n",
              "      <td>17.660000</td>\n",
              "      <td>0</td>\n",
              "      <td>0.0</td>\n",
              "      <td>0.0</td>\n",
              "    </tr>\n",
              "    <tr>\n",
              "      <th>...</th>\n",
              "      <td>...</td>\n",
              "      <td>...</td>\n",
              "      <td>...</td>\n",
              "      <td>...</td>\n",
              "      <td>...</td>\n",
              "      <td>...</td>\n",
              "      <td>...</td>\n",
              "    </tr>\n",
              "    <tr>\n",
              "      <th>2023-06-26 00:00:00-04:00</th>\n",
              "      <td>4344.839844</td>\n",
              "      <td>4362.060059</td>\n",
              "      <td>4328.080078</td>\n",
              "      <td>4328.819824</td>\n",
              "      <td>3415030000</td>\n",
              "      <td>0.0</td>\n",
              "      <td>0.0</td>\n",
              "    </tr>\n",
              "    <tr>\n",
              "      <th>2023-06-27 00:00:00-04:00</th>\n",
              "      <td>4337.359863</td>\n",
              "      <td>4384.419922</td>\n",
              "      <td>4335.000000</td>\n",
              "      <td>4378.410156</td>\n",
              "      <td>3573500000</td>\n",
              "      <td>0.0</td>\n",
              "      <td>0.0</td>\n",
              "    </tr>\n",
              "    <tr>\n",
              "      <th>2023-06-28 00:00:00-04:00</th>\n",
              "      <td>4367.479980</td>\n",
              "      <td>4390.350098</td>\n",
              "      <td>4360.220215</td>\n",
              "      <td>4376.859863</td>\n",
              "      <td>3739330000</td>\n",
              "      <td>0.0</td>\n",
              "      <td>0.0</td>\n",
              "    </tr>\n",
              "    <tr>\n",
              "      <th>2023-06-29 00:00:00-04:00</th>\n",
              "      <td>4374.939941</td>\n",
              "      <td>4398.390137</td>\n",
              "      <td>4371.970215</td>\n",
              "      <td>4396.439941</td>\n",
              "      <td>3696660000</td>\n",
              "      <td>0.0</td>\n",
              "      <td>0.0</td>\n",
              "    </tr>\n",
              "    <tr>\n",
              "      <th>2023-06-30 00:00:00-04:00</th>\n",
              "      <td>4422.439941</td>\n",
              "      <td>4458.479980</td>\n",
              "      <td>4422.439941</td>\n",
              "      <td>4450.379883</td>\n",
              "      <td>3923450000</td>\n",
              "      <td>0.0</td>\n",
              "      <td>0.0</td>\n",
              "    </tr>\n",
              "  </tbody>\n",
              "</table>\n",
              "<p>23989 rows × 7 columns</p>\n",
              "</div>\n",
              "      <button class=\"colab-df-convert\" onclick=\"convertToInteractive('df-6bd9d7d1-5fe7-4d67-87dc-5bbcd3d7da8f')\"\n",
              "              title=\"Convert this dataframe to an interactive table.\"\n",
              "              style=\"display:none;\">\n",
              "        \n",
              "  <svg xmlns=\"http://www.w3.org/2000/svg\" height=\"24px\"viewBox=\"0 0 24 24\"\n",
              "       width=\"24px\">\n",
              "    <path d=\"M0 0h24v24H0V0z\" fill=\"none\"/>\n",
              "    <path d=\"M18.56 5.44l.94 2.06.94-2.06 2.06-.94-2.06-.94-.94-2.06-.94 2.06-2.06.94zm-11 1L8.5 8.5l.94-2.06 2.06-.94-2.06-.94L8.5 2.5l-.94 2.06-2.06.94zm10 10l.94 2.06.94-2.06 2.06-.94-2.06-.94-.94-2.06-.94 2.06-2.06.94z\"/><path d=\"M17.41 7.96l-1.37-1.37c-.4-.4-.92-.59-1.43-.59-.52 0-1.04.2-1.43.59L10.3 9.45l-7.72 7.72c-.78.78-.78 2.05 0 2.83L4 21.41c.39.39.9.59 1.41.59.51 0 1.02-.2 1.41-.59l7.78-7.78 2.81-2.81c.8-.78.8-2.07 0-2.86zM5.41 20L4 18.59l7.72-7.72 1.47 1.35L5.41 20z\"/>\n",
              "  </svg>\n",
              "      </button>\n",
              "      \n",
              "  <style>\n",
              "    .colab-df-container {\n",
              "      display:flex;\n",
              "      flex-wrap:wrap;\n",
              "      gap: 12px;\n",
              "    }\n",
              "\n",
              "    .colab-df-convert {\n",
              "      background-color: #E8F0FE;\n",
              "      border: none;\n",
              "      border-radius: 50%;\n",
              "      cursor: pointer;\n",
              "      display: none;\n",
              "      fill: #1967D2;\n",
              "      height: 32px;\n",
              "      padding: 0 0 0 0;\n",
              "      width: 32px;\n",
              "    }\n",
              "\n",
              "    .colab-df-convert:hover {\n",
              "      background-color: #E2EBFA;\n",
              "      box-shadow: 0px 1px 2px rgba(60, 64, 67, 0.3), 0px 1px 3px 1px rgba(60, 64, 67, 0.15);\n",
              "      fill: #174EA6;\n",
              "    }\n",
              "\n",
              "    [theme=dark] .colab-df-convert {\n",
              "      background-color: #3B4455;\n",
              "      fill: #D2E3FC;\n",
              "    }\n",
              "\n",
              "    [theme=dark] .colab-df-convert:hover {\n",
              "      background-color: #434B5C;\n",
              "      box-shadow: 0px 1px 3px 1px rgba(0, 0, 0, 0.15);\n",
              "      filter: drop-shadow(0px 1px 2px rgba(0, 0, 0, 0.3));\n",
              "      fill: #FFFFFF;\n",
              "    }\n",
              "  </style>\n",
              "\n",
              "      <script>\n",
              "        const buttonEl =\n",
              "          document.querySelector('#df-6bd9d7d1-5fe7-4d67-87dc-5bbcd3d7da8f button.colab-df-convert');\n",
              "        buttonEl.style.display =\n",
              "          google.colab.kernel.accessAllowed ? 'block' : 'none';\n",
              "\n",
              "        async function convertToInteractive(key) {\n",
              "          const element = document.querySelector('#df-6bd9d7d1-5fe7-4d67-87dc-5bbcd3d7da8f');\n",
              "          const dataTable =\n",
              "            await google.colab.kernel.invokeFunction('convertToInteractive',\n",
              "                                                     [key], {});\n",
              "          if (!dataTable) return;\n",
              "\n",
              "          const docLinkHtml = 'Like what you see? Visit the ' +\n",
              "            '<a target=\"_blank\" href=https://colab.research.google.com/notebooks/data_table.ipynb>data table notebook</a>'\n",
              "            + ' to learn more about interactive tables.';\n",
              "          element.innerHTML = '';\n",
              "          dataTable['output_type'] = 'display_data';\n",
              "          await google.colab.output.renderOutput(dataTable, element);\n",
              "          const docLink = document.createElement('div');\n",
              "          docLink.innerHTML = docLinkHtml;\n",
              "          element.appendChild(docLink);\n",
              "        }\n",
              "      </script>\n",
              "    </div>\n",
              "  </div>\n",
              "  "
            ]
          },
          "metadata": {},
          "execution_count": 9
        }
      ]
    },
    {
      "cell_type": "code",
      "source": [
        "sp500.index"
      ],
      "metadata": {
        "colab": {
          "base_uri": "https://localhost:8080/"
        },
        "id": "hLuDMmPLbaaP",
        "outputId": "f81ba944-8c2d-4e64-ace0-a4b55d8be07d"
      },
      "execution_count": null,
      "outputs": [
        {
          "output_type": "execute_result",
          "data": {
            "text/plain": [
              "DatetimeIndex(['1927-12-30 00:00:00-05:00', '1928-01-03 00:00:00-05:00',\n",
              "               '1928-01-04 00:00:00-05:00', '1928-01-05 00:00:00-05:00',\n",
              "               '1928-01-06 00:00:00-05:00', '1928-01-09 00:00:00-05:00',\n",
              "               '1928-01-10 00:00:00-05:00', '1928-01-11 00:00:00-05:00',\n",
              "               '1928-01-12 00:00:00-05:00', '1928-01-13 00:00:00-05:00',\n",
              "               ...\n",
              "               '2023-06-16 00:00:00-04:00', '2023-06-20 00:00:00-04:00',\n",
              "               '2023-06-21 00:00:00-04:00', '2023-06-22 00:00:00-04:00',\n",
              "               '2023-06-23 00:00:00-04:00', '2023-06-26 00:00:00-04:00',\n",
              "               '2023-06-27 00:00:00-04:00', '2023-06-28 00:00:00-04:00',\n",
              "               '2023-06-29 00:00:00-04:00', '2023-06-30 00:00:00-04:00'],\n",
              "              dtype='datetime64[ns, America/New_York]', name='Date', length=23989, freq=None)"
            ]
          },
          "metadata": {},
          "execution_count": 10
        }
      ]
    },
    {
      "cell_type": "code",
      "source": [
        "sp500.plot.line(y=\"Close\", use_index=True)"
      ],
      "metadata": {
        "colab": {
          "base_uri": "https://localhost:8080/",
          "height": 461
        },
        "id": "bN40KjQvb0rx",
        "outputId": "9def8f5e-98f0-46b0-8ff4-37985ceba781"
      },
      "execution_count": null,
      "outputs": [
        {
          "output_type": "execute_result",
          "data": {
            "text/plain": [
              "<Axes: xlabel='Date'>"
            ]
          },
          "metadata": {},
          "execution_count": 11
        },
        {
          "output_type": "display_data",
          "data": {
            "text/plain": [
              "<Figure size 640x480 with 1 Axes>"
            ],
            "image/png": "[encoded data removed]"
          },
          "metadata": {}
        }
      ]
    },
    {
      "cell_type": "code",
      "source": [
        "if \"Dividends\" in sp500.keys():\n",
        "    del sp500[\"Dividends\"]\n",
        "if \"Stock Splits\" in sp500.keys():\n",
        "    del sp500[\"Stock Splits\"]"
      ],
      "metadata": {
        "id": "0902RsR_b-9N"
      },
      "execution_count": null,
      "outputs": []
    },
    {
      "cell_type": "code",
      "source": [
        "sp500[\"Tomorrow\"] = sp500[\"Close\"].shift(-1)"
      ],
      "metadata": {
        "id": "BaRFh5S92anT"
      },
      "execution_count": null,
      "outputs": []
    },
    {
      "cell_type": "code",
      "source": [
        "sp500"
      ],
      "metadata": {
        "colab": {
          "base_uri": "https://localhost:8080/",
          "height": 455
        },
        "id": "CPx4beXV3q49",
        "outputId": "c69b445c-9829-4b47-a2eb-0bd6ec20feee"
      },
      "execution_count": null,
      "outputs": [
        {
          "output_type": "execute_result",
          "data": {
            "text/plain": [
              "                                  Open         High          Low        Close  \\\n",
              "Date                                                                            \n",
              "1927-12-30 00:00:00-05:00    17.660000    17.660000    17.660000    17.660000   \n",
              "1928-01-03 00:00:00-05:00    17.760000    17.760000    17.760000    17.760000   \n",
              "1928-01-04 00:00:00-05:00    17.719999    17.719999    17.719999    17.719999   \n",
              "1928-01-05 00:00:00-05:00    17.549999    17.549999    17.549999    17.549999   \n",
              "1928-01-06 00:00:00-05:00    17.660000    17.660000    17.660000    17.660000   \n",
              "...                                ...          ...          ...          ...   \n",
              "2023-06-26 00:00:00-04:00  4344.839844  4362.060059  4328.080078  4328.819824   \n",
              "2023-06-27 00:00:00-04:00  4337.359863  4384.419922  4335.000000  4378.410156   \n",
              "2023-06-28 00:00:00-04:00  4367.479980  4390.350098  4360.220215  4376.859863   \n",
              "2023-06-29 00:00:00-04:00  4374.939941  4398.390137  4371.970215  4396.439941   \n",
              "2023-06-30 00:00:00-04:00  4422.439941  4458.479980  4422.439941  4450.379883   \n",
              "\n",
              "                               Volume     Tomorrow  \n",
              "Date                                                \n",
              "1927-12-30 00:00:00-05:00           0    17.760000  \n",
              "1928-01-03 00:00:00-05:00           0    17.719999  \n",
              "1928-01-04 00:00:00-05:00           0    17.549999  \n",
              "1928-01-05 00:00:00-05:00           0    17.660000  \n",
              "1928-01-06 00:00:00-05:00           0    17.500000  \n",
              "...                               ...          ...  \n",
              "2023-06-26 00:00:00-04:00  3415030000  4378.410156  \n",
              "2023-06-27 00:00:00-04:00  3573500000  4376.859863  \n",
              "2023-06-28 00:00:00-04:00  3739330000  4396.439941  \n",
              "2023-06-29 00:00:00-04:00  3696660000  4450.379883  \n",
              "2023-06-30 00:00:00-04:00  3923450000          NaN  \n",
              "\n",
              "[23989 rows x 6 columns]"
            ],
            "text/html": [
              "\n",
              "  <div id=\"df-0877ff86-072d-41d2-86bc-356021719989\">\n",
              "    <div class=\"colab-df-container\">\n",
              "      <div>\n",
              "<style scoped>\n",
              "    .dataframe tbody tr th:only-of-type {\n",
              "        vertical-align: middle;\n",
              "    }\n",
              "\n",
              "    .dataframe tbody tr th {\n",
              "        vertical-align: top;\n",
              "    }\n",
              "\n",
              "    .dataframe thead th {\n",
              "        text-align: right;\n",
              "    }\n",
              "</style>\n",
              "<table border=\"1\" class=\"dataframe\">\n",
              "  <thead>\n",
              "    <tr style=\"text-align: right;\">\n",
              "      <th></th>\n",
              "      <th>Open</th>\n",
              "      <th>High</th>\n",
              "      <th>Low</th>\n",
              "      <th>Close</th>\n",
              "      <th>Volume</th>\n",
              "      <th>Tomorrow</th>\n",
              "    </tr>\n",
              "    <tr>\n",
              "      <th>Date</th>\n",
              "      <th></th>\n",
              "      <th></th>\n",
              "      <th></th>\n",
              "      <th></th>\n",
              "      <th></th>\n",
              "      <th></th>\n",
              "    </tr>\n",
              "  </thead>\n",
              "  <tbody>\n",
              "    <tr>\n",
              "      <th>1927-12-30 00:00:00-05:00</th>\n",
              "      <td>17.660000</td>\n",
              "      <td>17.660000</td>\n",
              "      <td>17.660000</td>\n",
              "      <td>17.660000</td>\n",
              "      <td>0</td>\n",
              "      <td>17.760000</td>\n",
              "    </tr>\n",
              "    <tr>\n",
              "      <th>1928-01-03 00:00:00-05:00</th>\n",
              "      <td>17.760000</td>\n",
              "      <td>17.760000</td>\n",
              "      <td>17.760000</td>\n",
              "      <td>17.760000</td>\n",
              "      <td>0</td>\n",
              "      <td>17.719999</td>\n",
              "    </tr>\n",
              "    <tr>\n",
              "      <th>1928-01-04 00:00:00-05:00</th>\n",
              "      <td>17.719999</td>\n",
              "      <td>17.719999</td>\n",
              "      <td>17.719999</td>\n",
              "      <td>17.719999</td>\n",
              "      <td>0</td>\n",
              "      <td>17.549999</td>\n",
              "    </tr>\n",
              "    <tr>\n",
              "      <th>1928-01-05 00:00:00-05:00</th>\n",
              "      <td>17.549999</td>\n",
              "      <td>17.549999</td>\n",
              "      <td>17.549999</td>\n",
              "      <td>17.549999</td>\n",
              "      <td>0</td>\n",
              "      <td>17.660000</td>\n",
              "    </tr>\n",
              "    <tr>\n",
              "      <th>1928-01-06 00:00:00-05:00</th>\n",
              "      <td>17.660000</td>\n",
              "      <td>17.660000</td>\n",
              "      <td>17.660000</td>\n",
              "      <td>17.660000</td>\n",
              "      <td>0</td>\n",
              "      <td>17.500000</td>\n",
              "    </tr>\n",
              "    <tr>\n",
              "      <th>...</th>\n",
              "      <td>...</td>\n",
              "      <td>...</td>\n",
              "      <td>...</td>\n",
              "      <td>...</td>\n",
              "      <td>...</td>\n",
              "      <td>...</td>\n",
              "    </tr>\n",
              "    <tr>\n",
              "      <th>2023-06-26 00:00:00-04:00</th>\n",
              "      <td>4344.839844</td>\n",
              "      <td>4362.060059</td>\n",
              "      <td>4328.080078</td>\n",
              "      <td>4328.819824</td>\n",
              "      <td>3415030000</td>\n",
              "      <td>4378.410156</td>\n",
              "    </tr>\n",
              "    <tr>\n",
              "      <th>2023-06-27 00:00:00-04:00</th>\n",
              "      <td>4337.359863</td>\n",
              "      <td>4384.419922</td>\n",
              "      <td>4335.000000</td>\n",
              "      <td>4378.410156</td>\n",
              "      <td>3573500000</td>\n",
              "      <td>4376.859863</td>\n",
              "    </tr>\n",
              "    <tr>\n",
              "      <th>2023-06-28 00:00:00-04:00</th>\n",
              "      <td>4367.479980</td>\n",
              "      <td>4390.350098</td>\n",
              "      <td>4360.220215</td>\n",
              "      <td>4376.859863</td>\n",
              "      <td>3739330000</td>\n",
              "      <td>4396.439941</td>\n",
              "    </tr>\n",
              "    <tr>\n",
              "      <th>2023-06-29 00:00:00-04:00</th>\n",
              "      <td>4374.939941</td>\n",
              "      <td>4398.390137</td>\n",
              "      <td>4371.970215</td>\n",
              "      <td>4396.439941</td>\n",
              "      <td>3696660000</td>\n",
              "      <td>4450.379883</td>\n",
              "    </tr>\n",
              "    <tr>\n",
              "      <th>2023-06-30 00:00:00-04:00</th>\n",
              "      <td>4422.439941</td>\n",
              "      <td>4458.479980</td>\n",
              "      <td>4422.439941</td>\n",
              "      <td>4450.379883</td>\n",
              "      <td>3923450000</td>\n",
              "      <td>NaN</td>\n",
              "    </tr>\n",
              "  </tbody>\n",
              "</table>\n",
              "<p>23989 rows × 6 columns</p>\n",
              "</div>\n",
              "      <button class=\"colab-df-convert\" onclick=\"convertToInteractive('df-0877ff86-072d-41d2-86bc-356021719989')\"\n",
              "              title=\"Convert this dataframe to an interactive table.\"\n",
              "              style=\"display:none;\">\n",
              "        \n",
              "  <svg xmlns=\"http://www.w3.org/2000/svg\" height=\"24px\"viewBox=\"0 0 24 24\"\n",
              "       width=\"24px\">\n",
              "    <path d=\"M0 0h24v24H0V0z\" fill=\"none\"/>\n",
              "    <path d=\"M18.56 5.44l.94 2.06.94-2.06 2.06-.94-2.06-.94-.94-2.06-.94 2.06-2.06.94zm-11 1L8.5 8.5l.94-2.06 2.06-.94-2.06-.94L8.5 2.5l-.94 2.06-2.06.94zm10 10l.94 2.06.94-2.06 2.06-.94-2.06-.94-.94-2.06-.94 2.06-2.06.94z\"/><path d=\"M17.41 7.96l-1.37-1.37c-.4-.4-.92-.59-1.43-.59-.52 0-1.04.2-1.43.59L10.3 9.45l-7.72 7.72c-.78.78-.78 2.05 0 2.83L4 21.41c.39.39.9.59 1.41.59.51 0 1.02-.2 1.41-.59l7.78-7.78 2.81-2.81c.8-.78.8-2.07 0-2.86zM5.41 20L4 18.59l7.72-7.72 1.47 1.35L5.41 20z\"/>\n",
              "  </svg>\n",
              "      </button>\n",
              "      \n",
              "  <style>\n",
              "    .colab-df-container {\n",
              "      display:flex;\n",
              "      flex-wrap:wrap;\n",
              "      gap: 12px;\n",
              "    }\n",
              "\n",
              "    .colab-df-convert {\n",
              "      background-color: #E8F0FE;\n",
              "      border: none;\n",
              "      border-radius: 50%;\n",
              "      cursor: pointer;\n",
              "      display: none;\n",
              "      fill: #1967D2;\n",
              "      height: 32px;\n",
              "      padding: 0 0 0 0;\n",
              "      width: 32px;\n",
              "    }\n",
              "\n",
              "    .colab-df-convert:hover {\n",
              "      background-color: #E2EBFA;\n",
              "      box-shadow: 0px 1px 2px rgba(60, 64, 67, 0.3), 0px 1px 3px 1px rgba(60, 64, 67, 0.15);\n",
              "      fill: #174EA6;\n",
              "    }\n",
              "\n",
              "    [theme=dark] .colab-df-convert {\n",
              "      background-color: #3B4455;\n",
              "      fill: #D2E3FC;\n",
              "    }\n",
              "\n",
              "    [theme=dark] .colab-df-convert:hover {\n",
              "      background-color: #434B5C;\n",
              "      box-shadow: 0px 1px 3px 1px rgba(0, 0, 0, 0.15);\n",
              "      filter: drop-shadow(0px 1px 2px rgba(0, 0, 0, 0.3));\n",
              "      fill: #FFFFFF;\n",
              "    }\n",
              "  </style>\n",
              "\n",
              "      <script>\n",
              "        const buttonEl =\n",
              "          document.querySelector('#df-0877ff86-072d-41d2-86bc-356021719989 button.colab-df-convert');\n",
              "        buttonEl.style.display =\n",
              "          google.colab.kernel.accessAllowed ? 'block' : 'none';\n",
              "\n",
              "        async function convertToInteractive(key) {\n",
              "          const element = document.querySelector('#df-0877ff86-072d-41d2-86bc-356021719989');\n",
              "          const dataTable =\n",
              "            await google.colab.kernel.invokeFunction('convertToInteractive',\n",
              "                                                     [key], {});\n",
              "          if (!dataTable) return;\n",
              "\n",
              "          const docLinkHtml = 'Like what you see? Visit the ' +\n",
              "            '<a target=\"_blank\" href=https://colab.research.google.com/notebooks/data_table.ipynb>data table notebook</a>'\n",
              "            + ' to learn more about interactive tables.';\n",
              "          element.innerHTML = '';\n",
              "          dataTable['output_type'] = 'display_data';\n",
              "          await google.colab.output.renderOutput(dataTable, element);\n",
              "          const docLink = document.createElement('div');\n",
              "          docLink.innerHTML = docLinkHtml;\n",
              "          element.appendChild(docLink);\n",
              "        }\n",
              "      </script>\n",
              "    </div>\n",
              "  </div>\n",
              "  "
            ]
          },
          "metadata": {},
          "execution_count": 22
        }
      ]
    },
    {
      "cell_type": "code",
      "source": [
        "sp500[\"Target\"] = (sp500[\"Tomorrow\"] > sp500[\"Close\"]).astype(int)"
      ],
      "metadata": {
        "id": "Ea6kOLar3r8Z"
      },
      "execution_count": null,
      "outputs": []
    },
    {
      "cell_type": "code",
      "source": [
        "sp500"
      ],
      "metadata": {
        "colab": {
          "base_uri": "https://localhost:8080/",
          "height": 455
        },
        "id": "QB9fX7ck339m",
        "outputId": "1fbb1339-7cb4-4104-a7d6-10501785cd29"
      },
      "execution_count": null,
      "outputs": [
        {
          "output_type": "execute_result",
          "data": {
            "text/plain": [
              "                                  Open         High          Low        Close  \\\n",
              "Date                                                                            \n",
              "1927-12-30 00:00:00-05:00    17.660000    17.660000    17.660000    17.660000   \n",
              "1928-01-03 00:00:00-05:00    17.760000    17.760000    17.760000    17.760000   \n",
              "1928-01-04 00:00:00-05:00    17.719999    17.719999    17.719999    17.719999   \n",
              "1928-01-05 00:00:00-05:00    17.549999    17.549999    17.549999    17.549999   \n",
              "1928-01-06 00:00:00-05:00    17.660000    17.660000    17.660000    17.660000   \n",
              "...                                ...          ...          ...          ...   \n",
              "2023-06-26 00:00:00-04:00  4344.839844  4362.060059  4328.080078  4328.819824   \n",
              "2023-06-27 00:00:00-04:00  4337.359863  4384.419922  4335.000000  4378.410156   \n",
              "2023-06-28 00:00:00-04:00  4367.479980  4390.350098  4360.220215  4376.859863   \n",
              "2023-06-29 00:00:00-04:00  4374.939941  4398.390137  4371.970215  4396.439941   \n",
              "2023-06-30 00:00:00-04:00  4422.439941  4458.479980  4422.439941  4450.379883   \n",
              "\n",
              "                               Volume     Tomorrow  Target  \n",
              "Date                                                        \n",
              "1927-12-30 00:00:00-05:00           0    17.760000       1  \n",
              "1928-01-03 00:00:00-05:00           0    17.719999       0  \n",
              "1928-01-04 00:00:00-05:00           0    17.549999       0  \n",
              "1928-01-05 00:00:00-05:00           0    17.660000       1  \n",
              "1928-01-06 00:00:00-05:00           0    17.500000       0  \n",
              "...                               ...          ...     ...  \n",
              "2023-06-26 00:00:00-04:00  3415030000  4378.410156       1  \n",
              "2023-06-27 00:00:00-04:00  3573500000  4376.859863       0  \n",
              "2023-06-28 00:00:00-04:00  3739330000  4396.439941       1  \n",
              "2023-06-29 00:00:00-04:00  3696660000  4450.379883       1  \n",
              "2023-06-30 00:00:00-04:00  3923450000          NaN       0  \n",
              "\n",
              "[23989 rows x 7 columns]"
            ],
            "text/html": [
              "\n",
              "  <div id=\"df-6bad2c8e-44dc-483e-ba6b-049d094aca99\">\n",
              "    <div class=\"colab-df-container\">\n",
              "      <div>\n",
              "<style scoped>\n",
              "    .dataframe tbody tr th:only-of-type {\n",
              "        vertical-align: middle;\n",
              "    }\n",
              "\n",
              "    .dataframe tbody tr th {\n",
              "        vertical-align: top;\n",
              "    }\n",
              "\n",
              "    .dataframe thead th {\n",
              "        text-align: right;\n",
              "    }\n",
              "</style>\n",
              "<table border=\"1\" class=\"dataframe\">\n",
              "  <thead>\n",
              "    <tr style=\"text-align: right;\">\n",
              "      <th></th>\n",
              "      <th>Open</th>\n",
              "      <th>High</th>\n",
              "      <th>Low</th>\n",
              "      <th>Close</th>\n",
              "      <th>Volume</th>\n",
              "      <th>Tomorrow</th>\n",
              "      <th>Target</th>\n",
              "    </tr>\n",
              "    <tr>\n",
              "      <th>Date</th>\n",
              "      <th></th>\n",
              "      <th></th>\n",
              "      <th></th>\n",
              "      <th></th>\n",
              "      <th></th>\n",
              "      <th></th>\n",
              "      <th></th>\n",
              "    </tr>\n",
              "  </thead>\n",
              "  <tbody>\n",
              "    <tr>\n",
              "      <th>1927-12-30 00:00:00-05:00</th>\n",
              "      <td>17.660000</td>\n",
              "      <td>17.660000</td>\n",
              "      <td>17.660000</td>\n",
              "      <td>17.660000</td>\n",
              "      <td>0</td>\n",
              "      <td>17.760000</td>\n",
              "      <td>1</td>\n",
              "    </tr>\n",
              "    <tr>\n",
              "      <th>1928-01-03 00:00:00-05:00</th>\n",
              "      <td>17.760000</td>\n",
              "      <td>17.760000</td>\n",
              "      <td>17.760000</td>\n",
              "      <td>17.760000</td>\n",
              "      <td>0</td>\n",
              "      <td>17.719999</td>\n",
              "      <td>0</td>\n",
              "    </tr>\n",
              "    <tr>\n",
              "      <th>1928-01-04 00:00:00-05:00</th>\n",
              "      <td>17.719999</td>\n",
              "      <td>17.719999</td>\n",
              "      <td>17.719999</td>\n",
              "      <td>17.719999</td>\n",
              "      <td>0</td>\n",
              "      <td>17.549999</td>\n",
              "      <td>0</td>\n",
              "    </tr>\n",
              "    <tr>\n",
              "      <th>1928-01-05 00:00:00-05:00</th>\n",
              "      <td>17.549999</td>\n",
              "      <td>17.549999</td>\n",
              "      <td>17.549999</td>\n",
              "      <td>17.549999</td>\n",
              "      <td>0</td>\n",
              "      <td>17.660000</td>\n",
              "      <td>1</td>\n",
              "    </tr>\n",
              "    <tr>\n",
              "      <th>1928-01-06 00:00:00-05:00</th>\n",
              "      <td>17.660000</td>\n",
              "      <td>17.660000</td>\n",
              "      <td>17.660000</td>\n",
              "      <td>17.660000</td>\n",
              "      <td>0</td>\n",
              "      <td>17.500000</td>\n",
              "      <td>0</td>\n",
              "    </tr>\n",
              "    <tr>\n",
              "      <th>...</th>\n",
              "      <td>...</td>\n",
              "      <td>...</td>\n",
              "      <td>...</td>\n",
              "      <td>...</td>\n",
              "      <td>...</td>\n",
              "      <td>...</td>\n",
              "      <td>...</td>\n",
              "    </tr>\n",
              "    <tr>\n",
              "      <th>2023-06-26 00:00:00-04:00</th>\n",
              "      <td>4344.839844</td>\n",
              "      <td>4362.060059</td>\n",
              "      <td>4328.080078</td>\n",
              "      <td>4328.819824</td>\n",
              "      <td>3415030000</td>\n",
              "      <td>4378.410156</td>\n",
              "      <td>1</td>\n",
              "    </tr>\n",
              "    <tr>\n",
              "      <th>2023-06-27 00:00:00-04:00</th>\n",
              "      <td>4337.359863</td>\n",
              "      <td>4384.419922</td>\n",
              "      <td>4335.000000</td>\n",
              "      <td>4378.410156</td>\n",
              "      <td>3573500000</td>\n",
              "      <td>4376.859863</td>\n",
              "      <td>0</td>\n",
              "    </tr>\n",
              "    <tr>\n",
              "      <th>2023-06-28 00:00:00-04:00</th>\n",
              "      <td>4367.479980</td>\n",
              "      <td>4390.350098</td>\n",
              "      <td>4360.220215</td>\n",
              "      <td>4376.859863</td>\n",
              "      <td>3739330000</td>\n",
              "      <td>4396.439941</td>\n",
              "      <td>1</td>\n",
              "    </tr>\n",
              "    <tr>\n",
              "      <th>2023-06-29 00:00:00-04:00</th>\n",
              "      <td>4374.939941</td>\n",
              "      <td>4398.390137</td>\n",
              "      <td>4371.970215</td>\n",
              "      <td>4396.439941</td>\n",
              "      <td>3696660000</td>\n",
              "      <td>4450.379883</td>\n",
              "      <td>1</td>\n",
              "    </tr>\n",
              "    <tr>\n",
              "      <th>2023-06-30 00:00:00-04:00</th>\n",
              "      <td>4422.439941</td>\n",
              "      <td>4458.479980</td>\n",
              "      <td>4422.439941</td>\n",
              "      <td>4450.379883</td>\n",
              "      <td>3923450000</td>\n",
              "      <td>NaN</td>\n",
              "      <td>0</td>\n",
              "    </tr>\n",
              "  </tbody>\n",
              "</table>\n",
              "<p>23989 rows × 7 columns</p>\n",
              "</div>\n",
              "      <button class=\"colab-df-convert\" onclick=\"convertToInteractive('df-6bad2c8e-44dc-483e-ba6b-049d094aca99')\"\n",
              "              title=\"Convert this dataframe to an interactive table.\"\n",
              "              style=\"display:none;\">\n",
              "        \n",
              "  <svg xmlns=\"http://www.w3.org/2000/svg\" height=\"24px\"viewBox=\"0 0 24 24\"\n",
              "       width=\"24px\">\n",
              "    <path d=\"M0 0h24v24H0V0z\" fill=\"none\"/>\n",
              "    <path d=\"M18.56 5.44l.94 2.06.94-2.06 2.06-.94-2.06-.94-.94-2.06-.94 2.06-2.06.94zm-11 1L8.5 8.5l.94-2.06 2.06-.94-2.06-.94L8.5 2.5l-.94 2.06-2.06.94zm10 10l.94 2.06.94-2.06 2.06-.94-2.06-.94-.94-2.06-.94 2.06-2.06.94z\"/><path d=\"M17.41 7.96l-1.37-1.37c-.4-.4-.92-.59-1.43-.59-.52 0-1.04.2-1.43.59L10.3 9.45l-7.72 7.72c-.78.78-.78 2.05 0 2.83L4 21.41c.39.39.9.59 1.41.59.51 0 1.02-.2 1.41-.59l7.78-7.78 2.81-2.81c.8-.78.8-2.07 0-2.86zM5.41 20L4 18.59l7.72-7.72 1.47 1.35L5.41 20z\"/>\n",
              "  </svg>\n",
              "      </button>\n",
              "      \n",
              "  <style>\n",
              "    .colab-df-container {\n",
              "      display:flex;\n",
              "      flex-wrap:wrap;\n",
              "      gap: 12px;\n",
              "    }\n",
              "\n",
              "    .colab-df-convert {\n",
              "      background-color: #E8F0FE;\n",
              "      border: none;\n",
              "      border-radius: 50%;\n",
              "      cursor: pointer;\n",
              "      display: none;\n",
              "      fill: #1967D2;\n",
              "      height: 32px;\n",
              "      padding: 0 0 0 0;\n",
              "      width: 32px;\n",
              "    }\n",
              "\n",
              "    .colab-df-convert:hover {\n",
              "      background-color: #E2EBFA;\n",
              "      box-shadow: 0px 1px 2px rgba(60, 64, 67, 0.3), 0px 1px 3px 1px rgba(60, 64, 67, 0.15);\n",
              "      fill: #174EA6;\n",
              "    }\n",
              "\n",
              "    [theme=dark] .colab-df-convert {\n",
              "      background-color: #3B4455;\n",
              "      fill: #D2E3FC;\n",
              "    }\n",
              "\n",
              "    [theme=dark] .colab-df-convert:hover {\n",
              "      background-color: #434B5C;\n",
              "      box-shadow: 0px 1px 3px 1px rgba(0, 0, 0, 0.15);\n",
              "      filter: drop-shadow(0px 1px 2px rgba(0, 0, 0, 0.3));\n",
              "      fill: #FFFFFF;\n",
              "    }\n",
              "  </style>\n",
              "\n",
              "      <script>\n",
              "        const buttonEl =\n",
              "          document.querySelector('#df-6bad2c8e-44dc-483e-ba6b-049d094aca99 button.colab-df-convert');\n",
              "        buttonEl.style.display =\n",
              "          google.colab.kernel.accessAllowed ? 'block' : 'none';\n",
              "\n",
              "        async function convertToInteractive(key) {\n",
              "          const element = document.querySelector('#df-6bad2c8e-44dc-483e-ba6b-049d094aca99');\n",
              "          const dataTable =\n",
              "            await google.colab.kernel.invokeFunction('convertToInteractive',\n",
              "                                                     [key], {});\n",
              "          if (!dataTable) return;\n",
              "\n",
              "          const docLinkHtml = 'Like what you see? Visit the ' +\n",
              "            '<a target=\"_blank\" href=https://colab.research.google.com/notebooks/data_table.ipynb>data table notebook</a>'\n",
              "            + ' to learn more about interactive tables.';\n",
              "          element.innerHTML = '';\n",
              "          dataTable['output_type'] = 'display_data';\n",
              "          await google.colab.output.renderOutput(dataTable, element);\n",
              "          const docLink = document.createElement('div');\n",
              "          docLink.innerHTML = docLinkHtml;\n",
              "          element.appendChild(docLink);\n",
              "        }\n",
              "      </script>\n",
              "    </div>\n",
              "  </div>\n",
              "  "
            ]
          },
          "metadata": {},
          "execution_count": 26
        }
      ]
    },
    {
      "cell_type": "code",
      "source": [
        "sp500 = sp500[\"1990-01-01\":].copy()"
      ],
      "metadata": {
        "id": "Du-4L1Jl4Al1"
      },
      "execution_count": null,
      "outputs": []
    },
    {
      "cell_type": "markdown",
      "source": [
        "Model Training"
      ],
      "metadata": {
        "id": "GFyNp9Q64UCC"
      }
    },
    {
      "cell_type": "code",
      "source": [
        "from sklearn.ensemble import RandomForestClassifier\n",
        "\n",
        "model = RandomForestClassifier(n_estimators=100, min_samples_split=100, random_state=1)\n",
        "\n",
        "train = sp500.iloc[:-100]\n",
        "test = sp500.iloc[-100:]\n",
        "\n",
        "predictors = [\"Close\", \"Volume\", \"Open\", \"High\", \"Low\"]\n",
        "model.fit(train[predictors], train[\"Target\"])\n"
      ],
      "metadata": {
        "colab": {
          "base_uri": "https://localhost:8080/",
          "height": 75
        },
        "id": "GZJ2wxaH4MYM",
        "outputId": "bc2de2e6-97ae-4dd4-c5c2-249b910edc7f"
      },
      "execution_count": null,
      "outputs": [
        {
          "output_type": "execute_result",
          "data": {
            "text/plain": [
              "RandomForestClassifier(min_samples_split=100, random_state=1)"
            ],
            "text/html": [
              "<style>#sk-container-id-2 {color: black;background-color: white;}#sk-container-id-2 pre{padding: 0;}#sk-container-id-2 div.sk-toggleable {background-color: white;}#sk-container-id-2 label.sk-toggleable__label {cursor: pointer;display: block;width: 100%;margin-bottom: 0;padding: 0.3em;box-sizing: border-box;text-align: center;}#sk-container-id-2 label.sk-toggleable__label-arrow:before {content: \"▸\";float: left;margin-right: 0.25em;color: #696969;}#sk-container-id-2 label.sk-toggleable__label-arrow:hover:before {color: black;}#sk-container-id-2 div.sk-estimator:hover label.sk-toggleable__label-arrow:before {color: black;}#sk-container-id-2 div.sk-toggleable__content {max-height: 0;max-width: 0;overflow: hidden;text-align: left;background-color: #f0f8ff;}#sk-container-id-2 div.sk-toggleable__content pre {margin: 0.2em;color: black;border-radius: 0.25em;background-color: #f0f8ff;}#sk-container-id-2 input.sk-toggleable__control:checked~div.sk-toggleable__content {max-height: 200px;max-width: 100%;overflow: auto;}#sk-container-id-2 input.sk-toggleable__control:checked~label.sk-toggleable__label-arrow:before {content: \"▾\";}#sk-container-id-2 div.sk-estimator input.sk-toggleable__control:checked~label.sk-toggleable__label {background-color: #d4ebff;}#sk-container-id-2 div.sk-label input.sk-toggleable__control:checked~label.sk-toggleable__label {background-color: #d4ebff;}#sk-container-id-2 input.sk-hidden--visually {border: 0;clip: rect(1px 1px 1px 1px);clip: rect(1px, 1px, 1px, 1px);height: 1px;margin: -1px;overflow: hidden;padding: 0;position: absolute;width: 1px;}#sk-container-id-2 div.sk-estimator {font-family: monospace;background-color: #f0f8ff;border: 1px dotted black;border-radius: 0.25em;box-sizing: border-box;margin-bottom: 0.5em;}#sk-container-id-2 div.sk-estimator:hover {background-color: #d4ebff;}#sk-container-id-2 div.sk-parallel-item::after {content: \"\";width: 100%;border-bottom: 1px solid gray;flex-grow: 1;}#sk-container-id-2 div.sk-label:hover label.sk-toggleable__label {background-color: #d4ebff;}#sk-container-id-2 div.sk-serial::before {content: \"\";position: absolute;border-left: 1px solid gray;box-sizing: border-box;top: 0;bottom: 0;left: 50%;z-index: 0;}#sk-container-id-2 div.sk-serial {display: flex;flex-direction: column;align-items: center;background-color: white;padding-right: 0.2em;padding-left: 0.2em;position: relative;}#sk-container-id-2 div.sk-item {position: relative;z-index: 1;}#sk-container-id-2 div.sk-parallel {display: flex;align-items: stretch;justify-content: center;background-color: white;position: relative;}#sk-container-id-2 div.sk-item::before, #sk-container-id-2 div.sk-parallel-item::before {content: \"\";position: absolute;border-left: 1px solid gray;box-sizing: border-box;top: 0;bottom: 0;left: 50%;z-index: -1;}#sk-container-id-2 div.sk-parallel-item {display: flex;flex-direction: column;z-index: 1;position: relative;background-color: white;}#sk-container-id-2 div.sk-parallel-item:first-child::after {align-self: flex-end;width: 50%;}#sk-container-id-2 div.sk-parallel-item:last-child::after {align-self: flex-start;width: 50%;}#sk-container-id-2 div.sk-parallel-item:only-child::after {width: 0;}#sk-container-id-2 div.sk-dashed-wrapped {border: 1px dashed gray;margin: 0 0.4em 0.5em 0.4em;box-sizing: border-box;padding-bottom: 0.4em;background-color: white;}#sk-container-id-2 div.sk-label label {font-family: monospace;font-weight: bold;display: inline-block;line-height: 1.2em;}#sk-container-id-2 div.sk-label-container {text-align: center;}#sk-container-id-2 div.sk-container {/* jupyter's `normalize.less` sets `[hidden] { display: none; }` but bootstrap.min.css set `[hidden] { display: none !important; }` so we also need the `!important` here to be able to override the default hidden behavior on the sphinx rendered scikit-learn.org. See: https://github.com/scikit-learn/scikit-learn/issues/21755 */display: inline-block !important;position: relative;}#sk-container-id-2 div.sk-text-repr-fallback {display: none;}</style><div id=\"sk-container-id-2\" class=\"sk-top-container\"><div class=\"sk-text-repr-fallback\"><pre>RandomForestClassifier(min_samples_split=100, random_state=1)</pre><b>In a Jupyter environment, please rerun this cell to show the HTML representation or trust the notebook. <br />On GitHub, the HTML representation is unable to render, please try loading this page with nbviewer.org.</b></div><div class=\"sk-container\" hidden><div class=\"sk-item\"><div class=\"sk-estimator sk-toggleable\"><input class=\"sk-toggleable__control sk-hidden--visually\" id=\"sk-estimator-id-2\" type=\"checkbox\" checked><label for=\"sk-estimator-id-2\" class=\"sk-toggleable__label sk-toggleable__label-arrow\">RandomForestClassifier</label><div class=\"sk-toggleable__content\"><pre>RandomForestClassifier(min_samples_split=100, random_state=1)</pre></div></div></div></div></div>"
            ]
          },
          "metadata": {},
          "execution_count": 31
        }
      ]
    },
    {
      "cell_type": "markdown",
      "source": [
        "Checking the accuracy of the model  "
      ],
      "metadata": {
        "id": "pYJsn_4k9_4v"
      }
    },
    {
      "cell_type": "code",
      "source": [
        "from sklearn.metrics import precision_score\n",
        "\n",
        "preds = model.predict(test[predictors])\n"
      ],
      "metadata": {
        "id": "9eU7SbkG93Rw"
      },
      "execution_count": null,
      "outputs": []
    },
    {
      "cell_type": "code",
      "source": [
        "import pandas as pd\n",
        "\n",
        "preds = pd.Series(preds, index = test.index)"
      ],
      "metadata": {
        "id": "Jyo2UrJd-WLJ"
      },
      "execution_count": null,
      "outputs": []
    },
    {
      "cell_type": "code",
      "source": [
        "preds"
      ],
      "metadata": {
        "colab": {
          "base_uri": "https://localhost:8080/"
        },
        "id": "cUtZP6KK-l1C",
        "outputId": "523c489b-96a9-4012-b1b6-87f2cb52bd6f"
      },
      "execution_count": null,
      "outputs": [
        {
          "output_type": "execute_result",
          "data": {
            "text/plain": [
              "Date\n",
              "2023-02-07 00:00:00-05:00    0\n",
              "2023-02-08 00:00:00-05:00    1\n",
              "2023-02-09 00:00:00-05:00    1\n",
              "2023-02-10 00:00:00-05:00    1\n",
              "2023-02-13 00:00:00-05:00    0\n",
              "                            ..\n",
              "2023-06-26 00:00:00-04:00    0\n",
              "2023-06-27 00:00:00-04:00    1\n",
              "2023-06-28 00:00:00-04:00    1\n",
              "2023-06-29 00:00:00-04:00    1\n",
              "2023-06-30 00:00:00-04:00    1\n",
              "Length: 100, dtype: int64"
            ]
          },
          "metadata": {},
          "execution_count": 36
        }
      ]
    },
    {
      "cell_type": "code",
      "source": [
        "precision_score(test[\"Target\"], preds)"
      ],
      "metadata": {
        "colab": {
          "base_uri": "https://localhost:8080/"
        },
        "id": "IGaV5tCm-mzT",
        "outputId": "452c425f-8bf1-451d-9f24-080a52069f6b"
      },
      "execution_count": null,
      "outputs": [
        {
          "output_type": "execute_result",
          "data": {
            "text/plain": [
              "0.6046511627906976"
            ]
          },
          "metadata": {},
          "execution_count": 37
        }
      ]
    },
    {
      "cell_type": "code",
      "source": [
        "combined = pd.concat([test[\"Target\"], preds], axis=1)\n"
      ],
      "metadata": {
        "id": "ZvI4uLm-_a8D"
      },
      "execution_count": null,
      "outputs": []
    },
    {
      "cell_type": "code",
      "source": [
        "combined.plot()"
      ],
      "metadata": {
        "colab": {
          "base_uri": "https://localhost:8080/",
          "height": 471
        },
        "id": "lNgh4dBm_lqL",
        "outputId": "560751b2-6a97-43dc-8f55-5af242e12bc0"
      },
      "execution_count": null,
      "outputs": [
        {
          "output_type": "execute_result",
          "data": {
            "text/plain": [
              "<Axes: xlabel='Date'>"
            ]
          },
          "metadata": {},
          "execution_count": 39
        },
        {
          "output_type": "display_data",
          "data": {
            "text/plain": [
              "<Figure size 640x480 with 1 Axes>"
            ],
            "image/png": "[encoded data removed]"
          },
          "metadata": {}
        }
      ]
    },
    {
      "cell_type": "markdown",
      "source": [
        "Backtesting environment"
      ],
      "metadata": {
        "id": "bH-GBjQT_rQu"
      }
    },
    {
      "cell_type": "code",
      "source": [
        "def predict(train, test, predictors, model):\n",
        "  model.fit(train[predictors], train[\"Target\"])\n",
        "  preds = model.predict(test[predictors])\n",
        "  preds = pd.Series(preds, index=test.index, name = \"Predictions\")\n",
        "  combined = pd.concat([test[\"Target\"], preds], axis=1)\n",
        "  return combined\n",
        "\n"
      ],
      "metadata": {
        "id": "cIZ-D-UN_nfT"
      },
      "execution_count": null,
      "outputs": []
    },
    {
      "cell_type": "code",
      "source": [
        "def backtest(data, model, predictors, start=2500, step=250):\n",
        "  all_prediction = []\n",
        "\n",
        "  for i in range(start, data.shape[0], step):\n",
        "    train = data.iloc[0:i].copy()\n",
        "    test = data.iloc[i:(i+step)].copy()\n",
        "    predictions = predict(train, test, predictors, model)\n",
        "    all_prediction.append(predictions)\n",
        "  return pd.concat(all_prediction)"
      ],
      "metadata": {
        "id": "Mrz3WbwyBfbp"
      },
      "execution_count": null,
      "outputs": []
    },
    {
      "cell_type": "code",
      "source": [
        "predictions = backtest(sp500, model, predictors)"
      ],
      "metadata": {
        "id": "TYAY30uhCb03"
      },
      "execution_count": null,
      "outputs": []
    },
    {
      "cell_type": "code",
      "source": [
        "predictions[\"Predictions\"].value_counts()"
      ],
      "metadata": {
        "colab": {
          "base_uri": "https://localhost:8080/"
        },
        "id": "7SkI9ymiCf8E",
        "outputId": "77e3e937-ac05-45ca-8ab4-9e85c86f4aac"
      },
      "execution_count": null,
      "outputs": [
        {
          "output_type": "execute_result",
          "data": {
            "text/plain": [
              "0    3433\n",
              "1    2506\n",
              "Name: Predictions, dtype: int64"
            ]
          },
          "metadata": {},
          "execution_count": 46
        }
      ]
    },
    {
      "cell_type": "code",
      "source": [
        "precision_score(predictions[\"Target\"], predictions[\"Predictions\"])"
      ],
      "metadata": {
        "colab": {
          "base_uri": "https://localhost:8080/"
        },
        "id": "HQHplAYGC8eQ",
        "outputId": "3b4690c5-4f53-4659-c777-a7e0a31dd619"
      },
      "execution_count": null,
      "outputs": [
        {
          "output_type": "execute_result",
          "data": {
            "text/plain": [
              "0.5295291300877893"
            ]
          },
          "metadata": {},
          "execution_count": 47
        }
      ]
    },
    {
      "cell_type": "code",
      "source": [
        "predictions[\"Target\"].value_counts()/predictions.shape[0]"
      ],
      "metadata": {
        "colab": {
          "base_uri": "https://localhost:8080/"
        },
        "id": "aKqLRqiMDF4h",
        "outputId": "40e48252-4c20-4ee0-a8b5-61b3298a989b"
      },
      "execution_count": null,
      "outputs": [
        {
          "output_type": "execute_result",
          "data": {
            "text/plain": [
              "1    0.533928\n",
              "0    0.466072\n",
              "Name: Target, dtype: float64"
            ]
          },
          "metadata": {},
          "execution_count": 48
        }
      ]
    },
    {
      "cell_type": "markdown",
      "source": [
        "Reinforcing model w/more predictors"
      ],
      "metadata": {
        "id": "MCbFWFIpD7ia"
      }
    },
    {
      "cell_type": "code",
      "source": [
        "##Compute rolling averages\n",
        "\n",
        "horizons = [2,5,60,250,1000]\n",
        "\n",
        "new_predictors = []\n",
        "\n",
        "for horizon in horizons:\n",
        "  rolling_averages = sp500.rolling(horizon).mean()\n",
        "\n",
        "  ratio_column = f\"Close_Ratio_{horizon}\"\n",
        "  sp500[ratio_column] = sp500[\"Close\"] / rolling_averages[\"Close\"]\n",
        "\n",
        "  trend_column = f\"Trend_{horizon}\"\n",
        "  sp500[trend_column] = sp500.shift(1).rolling(horizon).sum()[\"Target\"]\n",
        "\n",
        "  new_predictors += [ratio_column, trend_column]\n",
        "\n"
      ],
      "metadata": {
        "id": "sev3lUtwDNT1"
      },
      "execution_count": null,
      "outputs": []
    },
    {
      "cell_type": "code",
      "source": [
        "sp500 = sp500.dropna()"
      ],
      "metadata": {
        "id": "M_VStDQnE_pq"
      },
      "execution_count": null,
      "outputs": []
    },
    {
      "cell_type": "code",
      "source": [
        "#updating model\n",
        "model = RandomForestClassifier(n_estimators=200, min_samples_split=50, random_state = 1)"
      ],
      "metadata": {
        "id": "4F6vrSaXFXmp"
      },
      "execution_count": null,
      "outputs": []
    },
    {
      "cell_type": "code",
      "source": [
        "def predict(train, test, predictors, model):\n",
        "  model.fit(train[predictors], train[\"Target\"])\n",
        "  preds = model.predict_proba(test[predictors])[:,1]\n",
        "  preds[preds >= .6] = 1\n",
        "  preds[preds < .6] = 0\n",
        "  preds = pd.Series(preds, index=test.index, name = \"Predictions\")\n",
        "  combined = pd.concat([test[\"Target\"], preds], axis=1)\n",
        "  return combined"
      ],
      "metadata": {
        "id": "IcCccOkKFkX4"
      },
      "execution_count": null,
      "outputs": []
    },
    {
      "cell_type": "code",
      "source": [
        "predictions = backtest(sp500, model, new_predictors)"
      ],
      "metadata": {
        "id": "ohRe2xeMF9oQ"
      },
      "execution_count": null,
      "outputs": []
    },
    {
      "cell_type": "code",
      "source": [
        "predictions[\"Predictions\"].value_counts()"
      ],
      "metadata": {
        "colab": {
          "base_uri": "https://localhost:8080/"
        },
        "id": "AEJ3GeAMGHz9",
        "outputId": "e5f4ac22-83b0-4df1-803f-983a3501ee58"
      },
      "execution_count": null,
      "outputs": [
        {
          "output_type": "execute_result",
          "data": {
            "text/plain": [
              "0.0    4122\n",
              "1.0     816\n",
              "Name: Predictions, dtype: int64"
            ]
          },
          "metadata": {},
          "execution_count": 57
        }
      ]
    },
    {
      "cell_type": "code",
      "source": [
        "precision_score(predictions[\"Target\"], predictions[\"Predictions\"])"
      ],
      "metadata": {
        "colab": {
          "base_uri": "https://localhost:8080/"
        },
        "id": "Gy10RHPZGND7",
        "outputId": "4fab267c-c837-449d-e279-e45ded2e7849"
      },
      "execution_count": null,
      "outputs": [
        {
          "output_type": "execute_result",
          "data": {
            "text/plain": [
              "0.5686274509803921"
            ]
          },
          "metadata": {},
          "execution_count": 59
        }
      ]
    },
    {
      "cell_type": "code",
      "source": [],
      "metadata": {
        "id": "c-EScDTzGgY3"
      },
      "execution_count": null,
      "outputs": []
    }
  ]
}